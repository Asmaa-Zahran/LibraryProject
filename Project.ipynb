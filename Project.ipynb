{
 "cells": [
  {
   "cell_type": "code",
   "execution_count": 1,
   "metadata": {},
   "outputs": [
    {
     "name": "stdout",
     "output_type": "stream",
     "text": [
      "Collecting mysql-connector-python\n",
      "  Downloading mysql_connector_python-8.0.33-py2.py3-none-any.whl (390 kB)\n",
      "Collecting protobuf<=3.20.3,>=3.11.0\n",
      "  Downloading protobuf-3.19.6-cp36-cp36m-win_amd64.whl (897 kB)\n",
      "Installing collected packages: protobuf, mysql-connector-python\n",
      "Successfully installed mysql-connector-python-8.0.33 protobuf-3.19.6\n"
     ]
    }
   ],
   "source": [
    "!pip install mysql-connector-python"
   ]
  },
  {
   "cell_type": "code",
   "execution_count": 1,
   "metadata": {},
   "outputs": [
    {
     "data": {
      "text/plain": [
       "mysql.connector.connection_cext.CMySQLConnection"
      ]
     },
     "execution_count": 1,
     "metadata": {},
     "output_type": "execute_result"
    }
   ],
   "source": [
    "import mysql.connector as conn\n",
    "connection = conn.connect(host = 'sql8.freesqldatabase.com' , username = 'sql8715470' , password = '4nfQydCri9'\n",
    "                          ,database = 'sql8715470', port = 3306)\n",
    "type(connection)"
   ]
  },
  {
   "cell_type": "code",
   "execution_count": 5,
   "metadata": {},
   "outputs": [],
   "source": [
    "cursor = connection.cursor()\n",
    "cursor.execute(\"\"\"select b.bookid,b.title,l.duedate ,l.returneddate ,concat(p.firstname,' ',p.lastname) full_name,p.email from Books b inner join Loans l on b.bookid = l.bookid \n",
    "inner join Patrons p on l.patronid = p.patronid\n",
    "where l.duedate = '2020-07-13' \"\"\")"
   ]
  },
  {
   "cell_type": "code",
   "execution_count": 6,
   "metadata": {},
   "outputs": [
    {
     "data": {
      "text/plain": [
       "[(10,\n",
       "  'The Count of Monte Cristo',\n",
       "  '2020-07-13',\n",
       "  None,\n",
       "  'Kala Simonian',\n",
       "  'ksimonian2q@landonhotel.com'),\n",
       " (155,\n",
       "  'The Prophet',\n",
       "  '2020-07-13',\n",
       "  None,\n",
       "  'Lydie Awmack',\n",
       "  'lawmack1a@samoca.org'),\n",
       " (169,\n",
       "  'Second Treatise of Government',\n",
       "  '2020-07-13',\n",
       "  None,\n",
       "  'Anthe Dinjes',\n",
       "  'adinjesh@samoca.org'),\n",
       " (73,\n",
       "  'Dracula',\n",
       "  '2020-07-13',\n",
       "  None,\n",
       "  'Cornelia Koppe',\n",
       "  'ckoppe1m@landonhotel.com')]"
      ]
     },
     "execution_count": 6,
     "metadata": {},
     "output_type": "execute_result"
    }
   ],
   "source": [
    "patron_contact = cursor.fetchall()\n",
    "patron_contact"
   ]
  },
  {
   "cell_type": "code",
   "execution_count": 7,
   "metadata": {},
   "outputs": [],
   "source": [
    "with open('patron_contact.csv','w') as fd:\n",
    "    fd.write(\"BookId,Title,DueDate,ReturnedDate,FullName,E-mail\\n\")\n",
    "    for i in range(len(patron_contact)):\n",
    "        bookid = patron_contact[i][0]\n",
    "        title = patron_contact[i][1]\n",
    "        duedate = patron_contact[i][2]\n",
    "        returneddate = patron_contact[i][3]\n",
    "        fullname = patron_contact[i][4]\n",
    "        email = patron_contact[i][5]\n",
    "        fd.write(f\"{bookid},{title},{duedate},{returneddate},{fullname},{email}\\n\")"
   ]
  },
  {
   "cell_type": "code",
   "execution_count": 8,
   "metadata": {},
   "outputs": [
    {
     "data": {
      "text/html": [
       "<div>\n",
       "<style scoped>\n",
       "    .dataframe tbody tr th:only-of-type {\n",
       "        vertical-align: middle;\n",
       "    }\n",
       "\n",
       "    .dataframe tbody tr th {\n",
       "        vertical-align: top;\n",
       "    }\n",
       "\n",
       "    .dataframe thead th {\n",
       "        text-align: right;\n",
       "    }\n",
       "</style>\n",
       "<table border=\"1\" class=\"dataframe\">\n",
       "  <thead>\n",
       "    <tr style=\"text-align: right;\">\n",
       "      <th></th>\n",
       "      <th>BookId</th>\n",
       "      <th>Title</th>\n",
       "      <th>DueDate</th>\n",
       "      <th>ReturnedDate</th>\n",
       "      <th>FullName</th>\n",
       "      <th>E-mail</th>\n",
       "    </tr>\n",
       "  </thead>\n",
       "  <tbody>\n",
       "    <tr>\n",
       "      <th>0</th>\n",
       "      <td>10</td>\n",
       "      <td>The Count of Monte Cristo</td>\n",
       "      <td>2020-07-13</td>\n",
       "      <td>None</td>\n",
       "      <td>Kala Simonian</td>\n",
       "      <td>ksimonian2q@landonhotel.com</td>\n",
       "    </tr>\n",
       "    <tr>\n",
       "      <th>1</th>\n",
       "      <td>155</td>\n",
       "      <td>The Prophet</td>\n",
       "      <td>2020-07-13</td>\n",
       "      <td>None</td>\n",
       "      <td>Lydie Awmack</td>\n",
       "      <td>lawmack1a@samoca.org</td>\n",
       "    </tr>\n",
       "    <tr>\n",
       "      <th>2</th>\n",
       "      <td>169</td>\n",
       "      <td>Second Treatise of Government</td>\n",
       "      <td>2020-07-13</td>\n",
       "      <td>None</td>\n",
       "      <td>Anthe Dinjes</td>\n",
       "      <td>adinjesh@samoca.org</td>\n",
       "    </tr>\n",
       "    <tr>\n",
       "      <th>3</th>\n",
       "      <td>73</td>\n",
       "      <td>Dracula</td>\n",
       "      <td>2020-07-13</td>\n",
       "      <td>None</td>\n",
       "      <td>Cornelia Koppe</td>\n",
       "      <td>ckoppe1m@landonhotel.com</td>\n",
       "    </tr>\n",
       "  </tbody>\n",
       "</table>\n",
       "</div>"
      ],
      "text/plain": [
       "   BookId                          Title     DueDate ReturnedDate  \\\n",
       "0      10      The Count of Monte Cristo  2020-07-13         None   \n",
       "1     155                    The Prophet  2020-07-13         None   \n",
       "2     169  Second Treatise of Government  2020-07-13         None   \n",
       "3      73                        Dracula  2020-07-13         None   \n",
       "\n",
       "         FullName                       E-mail  \n",
       "0   Kala Simonian  ksimonian2q@landonhotel.com  \n",
       "1    Lydie Awmack         lawmack1a@samoca.org  \n",
       "2    Anthe Dinjes          adinjesh@samoca.org  \n",
       "3  Cornelia Koppe     ckoppe1m@landonhotel.com  "
      ]
     },
     "execution_count": 8,
     "metadata": {},
     "output_type": "execute_result"
    }
   ],
   "source": [
    "import pandas as pd\n",
    "file = pd.read_csv('patron_contact.csv')\n",
    "file"
   ]
  },
  {
   "cell_type": "code",
   "execution_count": 28,
   "metadata": {},
   "outputs": [],
   "source": [
    "connection2 = conn.connect(host = 'sql8.freesqldatabase.com' , username = 'sql8715470' , password = '4nfQydCri9'\n",
    "                          ,database = 'sql8715470', port = 3306)\n",
    "cursor2 = connection2.cursor()\n",
    "cursor2.execute(\"\"\"select l.patronid , concat(p.firstname,' ' ,p.lastname) full_name , count(l.bookid) book_count\n",
    "from Loans l inner join Patrons p on l.patronid = p.patronid \n",
    "group by l.patronid order by book_count asc \n",
    "limit 10 \"\"\")\n"
   ]
  },
  {
   "cell_type": "code",
   "execution_count": 29,
   "metadata": {},
   "outputs": [
    {
     "data": {
      "text/plain": [
       "[(83, 'Caril Matejic', 9),\n",
       " (69, 'Alaster Ruggles', 9),\n",
       " (73, 'Merle Sukbhans', 11),\n",
       " (94, 'Curr Fittall', 12),\n",
       " (64, 'Norby Sleight', 12),\n",
       " (50, 'Jack Vaan', 13),\n",
       " (7, 'Cammi Kynett', 14),\n",
       " (16, 'Carla Swinfen', 14),\n",
       " (3, 'Aleen Fasey', 14),\n",
       " (12, 'Orton Stavers', 14)]"
      ]
     },
     "execution_count": 29,
     "metadata": {},
     "output_type": "execute_result"
    }
   ],
   "source": [
    "report = cursor2.fetchall()\n",
    "report"
   ]
  },
  {
   "cell_type": "code",
   "execution_count": 32,
   "metadata": {},
   "outputs": [],
   "source": [
    "with open('report.csv','w') as fd:\n",
    "    fd.write('PatronID,FullName,BookCount\\n')\n",
    "    for i in range(len(report)):\n",
    "        patronid = report[i][0]\n",
    "        fullname = report[i][1]\n",
    "        bookcount = report[i][2]\n",
    "        fd.write(f'{patronid},{fullname},{bookcount}\\n')"
   ]
  },
  {
   "cell_type": "code",
   "execution_count": 33,
   "metadata": {},
   "outputs": [
    {
     "data": {
      "text/html": [
       "<div>\n",
       "<style scoped>\n",
       "    .dataframe tbody tr th:only-of-type {\n",
       "        vertical-align: middle;\n",
       "    }\n",
       "\n",
       "    .dataframe tbody tr th {\n",
       "        vertical-align: top;\n",
       "    }\n",
       "\n",
       "    .dataframe thead th {\n",
       "        text-align: right;\n",
       "    }\n",
       "</style>\n",
       "<table border=\"1\" class=\"dataframe\">\n",
       "  <thead>\n",
       "    <tr style=\"text-align: right;\">\n",
       "      <th></th>\n",
       "      <th>PatronID</th>\n",
       "      <th>FullName</th>\n",
       "      <th>BookCount</th>\n",
       "    </tr>\n",
       "  </thead>\n",
       "  <tbody>\n",
       "    <tr>\n",
       "      <th>0</th>\n",
       "      <td>83</td>\n",
       "      <td>Caril Matejic</td>\n",
       "      <td>9</td>\n",
       "    </tr>\n",
       "    <tr>\n",
       "      <th>1</th>\n",
       "      <td>69</td>\n",
       "      <td>Alaster Ruggles</td>\n",
       "      <td>9</td>\n",
       "    </tr>\n",
       "    <tr>\n",
       "      <th>2</th>\n",
       "      <td>73</td>\n",
       "      <td>Merle Sukbhans</td>\n",
       "      <td>11</td>\n",
       "    </tr>\n",
       "    <tr>\n",
       "      <th>3</th>\n",
       "      <td>94</td>\n",
       "      <td>Curr Fittall</td>\n",
       "      <td>12</td>\n",
       "    </tr>\n",
       "    <tr>\n",
       "      <th>4</th>\n",
       "      <td>64</td>\n",
       "      <td>Norby Sleight</td>\n",
       "      <td>12</td>\n",
       "    </tr>\n",
       "    <tr>\n",
       "      <th>5</th>\n",
       "      <td>50</td>\n",
       "      <td>Jack Vaan</td>\n",
       "      <td>13</td>\n",
       "    </tr>\n",
       "    <tr>\n",
       "      <th>6</th>\n",
       "      <td>7</td>\n",
       "      <td>Cammi Kynett</td>\n",
       "      <td>14</td>\n",
       "    </tr>\n",
       "    <tr>\n",
       "      <th>7</th>\n",
       "      <td>16</td>\n",
       "      <td>Carla Swinfen</td>\n",
       "      <td>14</td>\n",
       "    </tr>\n",
       "    <tr>\n",
       "      <th>8</th>\n",
       "      <td>3</td>\n",
       "      <td>Aleen Fasey</td>\n",
       "      <td>14</td>\n",
       "    </tr>\n",
       "    <tr>\n",
       "      <th>9</th>\n",
       "      <td>12</td>\n",
       "      <td>Orton Stavers</td>\n",
       "      <td>14</td>\n",
       "    </tr>\n",
       "  </tbody>\n",
       "</table>\n",
       "</div>"
      ],
      "text/plain": [
       "   PatronID         FullName  BookCount\n",
       "0        83    Caril Matejic          9\n",
       "1        69  Alaster Ruggles          9\n",
       "2        73   Merle Sukbhans         11\n",
       "3        94     Curr Fittall         12\n",
       "4        64    Norby Sleight         12\n",
       "5        50        Jack Vaan         13\n",
       "6         7     Cammi Kynett         14\n",
       "7        16    Carla Swinfen         14\n",
       "8         3      Aleen Fasey         14\n",
       "9        12    Orton Stavers         14"
      ]
     },
     "execution_count": 33,
     "metadata": {},
     "output_type": "execute_result"
    }
   ],
   "source": [
    "file1 = pd.read_csv('report.csv')\n",
    "file1"
   ]
  }
 ],
 "metadata": {
  "kernelspec": {
   "display_name": "Python 3",
   "language": "python",
   "name": "python3"
  },
  "language_info": {
   "codemirror_mode": {
    "name": "ipython",
    "version": 3
   },
   "file_extension": ".py",
   "mimetype": "text/x-python",
   "name": "python",
   "nbconvert_exporter": "python",
   "pygments_lexer": "ipython3",
   "version": "3.7.6"
  }
 },
 "nbformat": 4,
 "nbformat_minor": 4
}
